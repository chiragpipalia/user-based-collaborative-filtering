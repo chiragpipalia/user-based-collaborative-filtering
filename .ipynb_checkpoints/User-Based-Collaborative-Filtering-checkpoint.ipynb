{
 "cells": [
  {
   "cell_type": "code",
   "execution_count": 1,
   "metadata": {},
   "outputs": [],
   "source": [
    "import pandas as pd\n",
    "import numpy as np\n",
    "from scipy import spatial"
   ]
  },
  {
   "cell_type": "code",
   "execution_count": 2,
   "metadata": {},
   "outputs": [
    {
     "data": {
      "text/html": [
       "<div>\n",
       "<style scoped>\n",
       "    .dataframe tbody tr th:only-of-type {\n",
       "        vertical-align: middle;\n",
       "    }\n",
       "\n",
       "    .dataframe tbody tr th {\n",
       "        vertical-align: top;\n",
       "    }\n",
       "\n",
       "    .dataframe thead th {\n",
       "        text-align: right;\n",
       "    }\n",
       "</style>\n",
       "<table border=\"1\" class=\"dataframe\">\n",
       "  <thead>\n",
       "    <tr style=\"text-align: right;\">\n",
       "      <th></th>\n",
       "      <th>User1</th>\n",
       "      <th>User2</th>\n",
       "      <th>User3</th>\n",
       "      <th>User4</th>\n",
       "      <th>User5</th>\n",
       "    </tr>\n",
       "  </thead>\n",
       "  <tbody>\n",
       "    <tr>\n",
       "      <th>Item1</th>\n",
       "      <td>4</td>\n",
       "      <td>5.0</td>\n",
       "      <td>4</td>\n",
       "      <td>2.0</td>\n",
       "      <td>4.0</td>\n",
       "    </tr>\n",
       "    <tr>\n",
       "      <th>Item2</th>\n",
       "      <td>3</td>\n",
       "      <td>3.0</td>\n",
       "      <td>3</td>\n",
       "      <td>1.0</td>\n",
       "      <td>2.0</td>\n",
       "    </tr>\n",
       "    <tr>\n",
       "      <th>Item3</th>\n",
       "      <td>5</td>\n",
       "      <td>NaN</td>\n",
       "      <td>3</td>\n",
       "      <td>NaN</td>\n",
       "      <td>NaN</td>\n",
       "    </tr>\n",
       "    <tr>\n",
       "      <th>Item4</th>\n",
       "      <td>4</td>\n",
       "      <td>NaN</td>\n",
       "      <td>4</td>\n",
       "      <td>NaN</td>\n",
       "      <td>NaN</td>\n",
       "    </tr>\n",
       "  </tbody>\n",
       "</table>\n",
       "</div>"
      ],
      "text/plain": [
       "       User1  User2  User3  User4  User5\n",
       "Item1      4    5.0      4    2.0    4.0\n",
       "Item2      3    3.0      3    1.0    2.0\n",
       "Item3      5    NaN      3    NaN    NaN\n",
       "Item4      4    NaN      4    NaN    NaN"
      ]
     },
     "execution_count": 2,
     "metadata": {},
     "output_type": "execute_result"
    }
   ],
   "source": [
    "df_dict = dict()\n",
    "df_dict = {'User1': {'Item1': 4,\n",
    "                    'Item2': 3,\n",
    "                    'Item3': 5,\n",
    "                    'Item4': 4},\n",
    "          'User2': {'Item1': 5,\n",
    "                    'Item2': 3},\n",
    "           'User3': {'Item1': 4,\n",
    "                    'Item2': 3,\n",
    "                    'Item3': 3,\n",
    "                    'Item4': 4},\n",
    "           'User4': {'Item1': 2,\n",
    "                    'Item2': 1},\n",
    "           'User5': {'Item1': 4,\n",
    "                    'Item2': 2}\n",
    "          }\n",
    "df_user_item = pd.DataFrame(df_dict)\n",
    "df_user_item "
   ]
  },
  {
   "cell_type": "markdown",
   "metadata": {},
   "source": [
    "## Cosine Similarity\n",
    "\n",
    "<img src=\"https://www.geeksforgeeks.org/wp-content/ql-cache/quicklatex.com-6a635084614b8873ccdb323986d9a7aa_l3.svg\" width = 400 height = 400/>"
   ]
  },
  {
   "cell_type": "code",
   "execution_count": 3,
   "metadata": {},
   "outputs": [],
   "source": [
    "import math\n",
    "from numpy.linalg import norm\n",
    "\n",
    "def get_sim(u1, u2):\n",
    "    num = np.dot(u1, u2)\n",
    "    den = norm(u1)*norm(u2)\n",
    "    return num/den\n",
    "\n",
    "def similarity(df, user1, user2):\n",
    "    u1, u2 = np.array([]), np.array([])\n",
    "    for i, j in zip(df[user1].tolist(), df[user2].tolist()):\n",
    "        if pd.notnull(i) and pd.notnull(j):\n",
    "            u1 = np.append(u1, [i])\n",
    "            u2 = np.append(u2, [j]) \n",
    "    return get_sim(u1, u2)"
   ]
  },
  {
   "cell_type": "markdown",
   "metadata": {},
   "source": [
    "## Part 1: Finding similar users"
   ]
  },
  {
   "cell_type": "markdown",
   "metadata": {},
   "source": [
    "### Considering only common rated items"
   ]
  },
  {
   "cell_type": "code",
   "execution_count": 4,
   "metadata": {},
   "outputs": [
    {
     "data": {
      "text/html": [
       "<div>\n",
       "<style scoped>\n",
       "    .dataframe tbody tr th:only-of-type {\n",
       "        vertical-align: middle;\n",
       "    }\n",
       "\n",
       "    .dataframe tbody tr th {\n",
       "        vertical-align: top;\n",
       "    }\n",
       "\n",
       "    .dataframe thead th {\n",
       "        text-align: right;\n",
       "    }\n",
       "</style>\n",
       "<table border=\"1\" class=\"dataframe\">\n",
       "  <thead>\n",
       "    <tr style=\"text-align: right;\">\n",
       "      <th></th>\n",
       "      <th>User1</th>\n",
       "      <th>User2</th>\n",
       "      <th>User3</th>\n",
       "      <th>User4</th>\n",
       "      <th>User5</th>\n",
       "    </tr>\n",
       "  </thead>\n",
       "  <tbody>\n",
       "    <tr>\n",
       "      <th>User1</th>\n",
       "      <td>1</td>\n",
       "      <td>0.994692</td>\n",
       "      <td>0.974835</td>\n",
       "      <td>0.98387</td>\n",
       "      <td>0.98387</td>\n",
       "    </tr>\n",
       "    <tr>\n",
       "      <th>User2</th>\n",
       "      <td>0.994692</td>\n",
       "      <td>1</td>\n",
       "      <td>0.994692</td>\n",
       "      <td>0.997054</td>\n",
       "      <td>0.997054</td>\n",
       "    </tr>\n",
       "    <tr>\n",
       "      <th>User3</th>\n",
       "      <td>0.974835</td>\n",
       "      <td>0.994692</td>\n",
       "      <td>1</td>\n",
       "      <td>0.98387</td>\n",
       "      <td>0.98387</td>\n",
       "    </tr>\n",
       "    <tr>\n",
       "      <th>User4</th>\n",
       "      <td>0.98387</td>\n",
       "      <td>0.997054</td>\n",
       "      <td>0.98387</td>\n",
       "      <td>1</td>\n",
       "      <td>1</td>\n",
       "    </tr>\n",
       "    <tr>\n",
       "      <th>User5</th>\n",
       "      <td>0.98387</td>\n",
       "      <td>0.997054</td>\n",
       "      <td>0.98387</td>\n",
       "      <td>1</td>\n",
       "      <td>1</td>\n",
       "    </tr>\n",
       "  </tbody>\n",
       "</table>\n",
       "</div>"
      ],
      "text/plain": [
       "          User1     User2     User3     User4     User5\n",
       "User1         1  0.994692  0.974835   0.98387   0.98387\n",
       "User2  0.994692         1  0.994692  0.997054  0.997054\n",
       "User3  0.974835  0.994692         1   0.98387   0.98387\n",
       "User4   0.98387  0.997054   0.98387         1         1\n",
       "User5   0.98387  0.997054   0.98387         1         1"
      ]
     },
     "execution_count": 4,
     "metadata": {},
     "output_type": "execute_result"
    }
   ],
   "source": [
    "users = df_user_item.columns.tolist()\n",
    "user_user_sim_matrix1 = pd.DataFrame(columns = df_user_item.columns,  index = df_user_item.columns)\n",
    "\n",
    "df = df_user_item\n",
    "for user1 in users:\n",
    "    for user2 in users:\n",
    "        user_user_sim_matrix1.at[user1, user2] = similarity(df, user1, user2)\n",
    "user_user_sim_matrix1"
   ]
  },
  {
   "cell_type": "markdown",
   "metadata": {},
   "source": [
    "User2 and User3 should be more closer than User2 and User1, above method finds both equally similar"
   ]
  },
  {
   "cell_type": "markdown",
   "metadata": {},
   "source": [
    "### Filling NaNs with 0"
   ]
  },
  {
   "cell_type": "code",
   "execution_count": 5,
   "metadata": {},
   "outputs": [
    {
     "data": {
      "text/html": [
       "<div>\n",
       "<style scoped>\n",
       "    .dataframe tbody tr th:only-of-type {\n",
       "        vertical-align: middle;\n",
       "    }\n",
       "\n",
       "    .dataframe tbody tr th {\n",
       "        vertical-align: top;\n",
       "    }\n",
       "\n",
       "    .dataframe thead th {\n",
       "        text-align: right;\n",
       "    }\n",
       "</style>\n",
       "<table border=\"1\" class=\"dataframe\">\n",
       "  <thead>\n",
       "    <tr style=\"text-align: right;\">\n",
       "      <th></th>\n",
       "      <th>User1</th>\n",
       "      <th>User2</th>\n",
       "      <th>User3</th>\n",
       "      <th>User4</th>\n",
       "      <th>User5</th>\n",
       "    </tr>\n",
       "  </thead>\n",
       "  <tbody>\n",
       "    <tr>\n",
       "      <th>User1</th>\n",
       "      <td>1</td>\n",
       "      <td>0.61219</td>\n",
       "      <td>0.974835</td>\n",
       "      <td>0.60553</td>\n",
       "      <td>0.60553</td>\n",
       "    </tr>\n",
       "    <tr>\n",
       "      <th>User2</th>\n",
       "      <td>0.61219</td>\n",
       "      <td>1</td>\n",
       "      <td>0.703353</td>\n",
       "      <td>0.997054</td>\n",
       "      <td>0.997054</td>\n",
       "    </tr>\n",
       "    <tr>\n",
       "      <th>User3</th>\n",
       "      <td>0.974835</td>\n",
       "      <td>0.703353</td>\n",
       "      <td>1</td>\n",
       "      <td>0.695701</td>\n",
       "      <td>0.695701</td>\n",
       "    </tr>\n",
       "    <tr>\n",
       "      <th>User4</th>\n",
       "      <td>0.60553</td>\n",
       "      <td>0.997054</td>\n",
       "      <td>0.695701</td>\n",
       "      <td>1</td>\n",
       "      <td>1</td>\n",
       "    </tr>\n",
       "    <tr>\n",
       "      <th>User5</th>\n",
       "      <td>0.60553</td>\n",
       "      <td>0.997054</td>\n",
       "      <td>0.695701</td>\n",
       "      <td>1</td>\n",
       "      <td>1</td>\n",
       "    </tr>\n",
       "  </tbody>\n",
       "</table>\n",
       "</div>"
      ],
      "text/plain": [
       "          User1     User2     User3     User4     User5\n",
       "User1         1   0.61219  0.974835   0.60553   0.60553\n",
       "User2   0.61219         1  0.703353  0.997054  0.997054\n",
       "User3  0.974835  0.703353         1  0.695701  0.695701\n",
       "User4   0.60553  0.997054  0.695701         1         1\n",
       "User5   0.60553  0.997054  0.695701         1         1"
      ]
     },
     "execution_count": 5,
     "metadata": {},
     "output_type": "execute_result"
    }
   ],
   "source": [
    "user_user_sim_matrix2 = pd.DataFrame(columns = df_user_item.columns,  index = df_user_item.columns)\n",
    "df = df_user_item.fillna(0)\n",
    "for user1 in users:\n",
    "    for user2 in users:\n",
    "        user_user_sim_matrix2.at[user1, user2] = similarity(df, user1, user2)\n",
    "user_user_sim_matrix2"
   ]
  },
  {
   "cell_type": "markdown",
   "metadata": {},
   "source": [
    "Finds User2 and User3 more similar than User2 and User1, which seems to be more inline with the ratings.\n"
   ]
  },
  {
   "cell_type": "markdown",
   "metadata": {},
   "source": [
    "### Filling NaNs with mean and subtracting mean user rating"
   ]
  },
  {
   "cell_type": "code",
   "execution_count": 6,
   "metadata": {},
   "outputs": [
    {
     "data": {
      "text/html": [
       "<div>\n",
       "<style scoped>\n",
       "    .dataframe tbody tr th:only-of-type {\n",
       "        vertical-align: middle;\n",
       "    }\n",
       "\n",
       "    .dataframe tbody tr th {\n",
       "        vertical-align: top;\n",
       "    }\n",
       "\n",
       "    .dataframe thead th {\n",
       "        text-align: right;\n",
       "    }\n",
       "</style>\n",
       "<table border=\"1\" class=\"dataframe\">\n",
       "  <thead>\n",
       "    <tr style=\"text-align: right;\">\n",
       "      <th></th>\n",
       "      <th>User1</th>\n",
       "      <th>User2</th>\n",
       "      <th>User3</th>\n",
       "      <th>User4</th>\n",
       "      <th>User5</th>\n",
       "    </tr>\n",
       "  </thead>\n",
       "  <tbody>\n",
       "    <tr>\n",
       "      <th>User1</th>\n",
       "      <td>1</td>\n",
       "      <td>0.5</td>\n",
       "      <td>0</td>\n",
       "      <td>0.5</td>\n",
       "      <td>0.5</td>\n",
       "    </tr>\n",
       "    <tr>\n",
       "      <th>User2</th>\n",
       "      <td>0.5</td>\n",
       "      <td>1</td>\n",
       "      <td>0.707107</td>\n",
       "      <td>1</td>\n",
       "      <td>1</td>\n",
       "    </tr>\n",
       "    <tr>\n",
       "      <th>User3</th>\n",
       "      <td>0</td>\n",
       "      <td>0.707107</td>\n",
       "      <td>1</td>\n",
       "      <td>0.707107</td>\n",
       "      <td>0.707107</td>\n",
       "    </tr>\n",
       "    <tr>\n",
       "      <th>User4</th>\n",
       "      <td>0.5</td>\n",
       "      <td>1</td>\n",
       "      <td>0.707107</td>\n",
       "      <td>1</td>\n",
       "      <td>1</td>\n",
       "    </tr>\n",
       "    <tr>\n",
       "      <th>User5</th>\n",
       "      <td>0.5</td>\n",
       "      <td>1</td>\n",
       "      <td>0.707107</td>\n",
       "      <td>1</td>\n",
       "      <td>1</td>\n",
       "    </tr>\n",
       "  </tbody>\n",
       "</table>\n",
       "</div>"
      ],
      "text/plain": [
       "      User1     User2     User3     User4     User5\n",
       "User1     1       0.5         0       0.5       0.5\n",
       "User2   0.5         1  0.707107         1         1\n",
       "User3     0  0.707107         1  0.707107  0.707107\n",
       "User4   0.5         1  0.707107         1         1\n",
       "User5   0.5         1  0.707107         1         1"
      ]
     },
     "execution_count": 6,
     "metadata": {},
     "output_type": "execute_result"
    }
   ],
   "source": [
    "user_user_sim_matrix3 = pd.DataFrame(columns = df_user_item.columns,  index = df_user_item.columns)\n",
    "\n",
    "df = df_user_item - df_user_item.mean()\n",
    "df = df.fillna(df.mean())\n",
    "\n",
    "for user1 in users:\n",
    "    for user2 in users:\n",
    "        user_user_sim_matrix3.at[user1, user2] = similarity(df, user1, user2)\n",
    "user_user_sim_matrix3"
   ]
  },
  {
   "cell_type": "markdown",
   "metadata": {},
   "source": [
    "Although users 1 and 3 are similar based on ratings (4,3,5,4) and (4,3,3,4) similarity based on above method is 0"
   ]
  },
  {
   "cell_type": "markdown",
   "metadata": {},
   "source": [
    "<b>Reference:</b> https://www.sciencedirect.com/science/article/pii/S0950705113003560"
   ]
  },
  {
   "cell_type": "markdown",
   "metadata": {},
   "source": [
    "## Part 2: Recommending items based on similar users"
   ]
  },
  {
   "cell_type": "markdown",
   "metadata": {},
   "source": [
    "## Predicting missing rating\n",
    "\n",
    "<img src=\"https://www.geeksforgeeks.org/wp-content/ql-cache/quicklatex.com-a81ab02a7ef2d17d21abce7d4015a964_l3.svg\" width = 400 height = 400/>\n",
    "\n",
    "<b>Reference:</b> https://www.geeksforgeeks.org/user-based-collaborative-filtering/?ref=rp"
   ]
  },
  {
   "cell_type": "code",
   "execution_count": 7,
   "metadata": {},
   "outputs": [],
   "source": [
    "def get_recommendations(unknown_user):\n",
    "    #unknown_user = 'User2'\n",
    "    mean_r_u = df_user_item[unknown_user].mean()\n",
    "\n",
    "    #df_user_item[unknown_user]\n",
    "    unrated_items = df_user_item[df_user_item[unknown_user].isna()][unknown_user].index\n",
    "    if len(unrated_items) == 0:\n",
    "        return 0\n",
    "    \n",
    "    \n",
    "    users = df_user_item.columns.tolist()\n",
    "    users.remove(unknown_user)\n",
    "\n",
    "    ratings = {}\n",
    "\n",
    "    df = df_user_item.fillna(0)\n",
    "    for item in unrated_items:\n",
    "        num, den = 0, 0\n",
    "        for user in users:\n",
    "            sim = user_user_sim_matrix2.at[unknown_user, user]\n",
    "            r_ip = df_user_item.at[item, user] - df_user_item[user].mean()\n",
    "            if pd.notnull(r_ip):    \n",
    "                num += (sim * r_ip)\n",
    "            else:\n",
    "                num += 0\n",
    "            den += abs(sim)\n",
    "\n",
    "\n",
    "        ratings[item] = mean_r_u + (num/ den)\n",
    "    ratings = dict(sorted(ratings.items(), key=lambda item: item[1], reverse = True))  \n",
    "    return ratings\n"
   ]
  },
  {
   "cell_type": "code",
   "execution_count": 8,
   "metadata": {},
   "outputs": [
    {
     "name": "stdout",
     "output_type": "stream",
     "text": [
      "Recommendations for User2\n",
      "Item4 --> 4.106257870972776\n",
      "Item3 --> 4.078713340085062\n"
     ]
    }
   ],
   "source": [
    "unknown_user = 'User2'\n",
    "ratings = get_recommendations(unknown_user)\n",
    "print(f'Recommendations for {unknown_user}')\n",
    "if ratings == 0:\n",
    "    print(f'{unknown_user} has watched all movies')\n",
    "else:\n",
    "    for i, r in ratings.items():\n",
    "        print(f'{i} --> {r}')"
   ]
  }
 ],
 "metadata": {
  "kernelspec": {
   "display_name": "Python 3",
   "language": "python",
   "name": "python3"
  },
  "language_info": {
   "codemirror_mode": {
    "name": "ipython",
    "version": 3
   },
   "file_extension": ".py",
   "mimetype": "text/x-python",
   "name": "python",
   "nbconvert_exporter": "python",
   "pygments_lexer": "ipython3",
   "version": "3.7.4"
  }
 },
 "nbformat": 4,
 "nbformat_minor": 4
}
